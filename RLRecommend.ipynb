{
 "cells": [
  {
   "cell_type": "markdown",
   "id": "a1cee4f2",
   "metadata": {},
   "source": [
    "### RL ile Tavsiye Sistemi\n",
    "\n",
    "#### RL Sağlamak\n",
    "- **state (s)**: Kullanıcının geçmiş etkileşimleri, demografik bilgileri veya şu anki göz atma oturumu olabilir.\n",
    "- **action (a)**: Önerilebilecek ürünler.\n",
    "- **reward (r)**: Kullanıcının memnuniyetini veya etkileşimini gösteren bir ölçüt, en zor kısım burası. Olabilecekler :\n",
    "\n",
    "1. Tıklama oranı \n",
    "2. Bekleme oranı\n",
    "3. Satın alma\n",
    "4. Platformun sunduğu herhangi bir etkileşime geçme ölçütü (favoriye alma, yorum yapma vb.)\n",
    "\n",
    "#### Olası RL Algoritmaları:\n",
    "* Q-learning \n",
    "* Deep Q Networks (DQN)\n",
    "* Policy Gradient\n",
    "\n",
    "#### Oluşabilecek zorluklar\n",
    "\n",
    "1. Reward fonksiyonu tam olarak net olması çok mümkün gözükmüyor, örneğin kullanıcı tıklamasını baz alarak reward fonksiyonunu utilize eden bir model eğitildiğini düşünürsek, yanlışıkla tıklanan üründe verilen önerinin kullanıcı önerilerini bozması muhtemel.\n",
    "2. RL modellerini eğitmek ve scale etmek daha zor ve sürekli veri akan gelişen, platforma göre trendler değişen bir öneri yapısını RL yapmak maliyet de getirir\n"
   ]
  }
 ],
 "metadata": {
  "kernelspec": {
   "display_name": "Python 3 (ipykernel)",
   "language": "python",
   "name": "python3"
  },
  "language_info": {
   "codemirror_mode": {
    "name": "ipython",
    "version": 3
   },
   "file_extension": ".py",
   "mimetype": "text/x-python",
   "name": "python",
   "nbconvert_exporter": "python",
   "pygments_lexer": "ipython3",
   "version": "3.11.5"
  }
 },
 "nbformat": 4,
 "nbformat_minor": 5
}
