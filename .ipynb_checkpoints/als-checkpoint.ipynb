{
 "cells": [
  {
   "cell_type": "markdown",
   "metadata": {},
   "source": [
    "\n",
    "### Non-negative Matrix Factorization (NMF) using Alternating Least Squares (ALS)\n",
    "\n",
    "The goal of NMF is to approximate a given matrix \\( A \\) as the product of two lower-dimensional matrices \\( W \\) and \\( H \\), such that all these matrices have non-negative elements. Mathematically, this can be represented as \\( A \\approx W \\times H \\).\n",
    "\n",
    "### Algorithm Steps\n",
    "\n",
    "1. **Initialization**: Start with random non-negative matrices \\( W \\) and \\( H \\) as initial approximations.\n",
    "\n",
    "2. **Iterative Optimization**: The algorithm then enters a loop, where it alternates between two steps until a stopping criterion is met (e.g., maximum number of iterations, or the approximation error falls below a certain threshold).\n",
    "\n",
    "    - **Step 1 - Update \\( H \\) given \\( W \\)**: While keeping \\( W \\) fixed, update \\( H \\) to better approximate \\( A \\). This is done by solving a least squares problem to minimize the difference \\( A - W \\times H \\).\n",
    "    \n",
    "    - **Step 2 - Update \\( W \\) given \\( H \\)**: Similarly, while keeping \\( H \\) fixed, update \\( W \\). Again, this is done by solving a least squares problem.\n",
    "\n",
    "3. **Check for Convergence**: After each pair of updates, check how well \\( W \\times H \\) approximates \\( A \\). If the approximation is good enough, stop the algorithm.\n",
    "\n",
    "4. **Result**: The final \\( W \\) and \\( H \\) matrices are used as the approximation of \\( A \\), i.e., \\( A \\approx W \\times H \\).\n"
   ]
  },
  {
   "cell_type": "code",
   "execution_count": 15,
   "metadata": {},
   "outputs": [
    {
     "ename": "NameError",
     "evalue": "name 'dot' is not defined",
     "output_type": "error",
     "traceback": [
      "\u001b[1;31m---------------------------------------------------------------------------\u001b[0m",
      "\u001b[1;31mNameError\u001b[0m                                 Traceback (most recent call last)",
      "Cell \u001b[1;32mIn[15], line 27\u001b[0m\n\u001b[0;32m     20\u001b[0m         \u001b[38;5;28;01mreturn\u001b[39;00m W, H\n\u001b[0;32m     22\u001b[0m V \u001b[38;5;241m=\u001b[39m np\u001b[38;5;241m.\u001b[39marray([[\u001b[38;5;241m5\u001b[39m, \u001b[38;5;241m4\u001b[39m, \u001b[38;5;241m0\u001b[39m, \u001b[38;5;241m2\u001b[39m],\n\u001b[0;32m     23\u001b[0m               [\u001b[38;5;241m4\u001b[39m, \u001b[38;5;241m3\u001b[39m, \u001b[38;5;241m0\u001b[39m, \u001b[38;5;241m1\u001b[39m],\n\u001b[0;32m     24\u001b[0m               [\u001b[38;5;241m3\u001b[39m, \u001b[38;5;241m2\u001b[39m, \u001b[38;5;241m4\u001b[39m, \u001b[38;5;241m5\u001b[39m],\n\u001b[0;32m     25\u001b[0m               [\u001b[38;5;241m2\u001b[39m, \u001b[38;5;241m1\u001b[39m, \u001b[38;5;241m5\u001b[39m, \u001b[38;5;241m4\u001b[39m]])\n\u001b[1;32m---> 27\u001b[0m W, H \u001b[38;5;241m=\u001b[39m nmf(V, \u001b[38;5;241m2\u001b[39m)\n\u001b[0;32m     28\u001b[0m \u001b[38;5;28mprint\u001b[39m(\u001b[38;5;124m\"\u001b[39m\u001b[38;5;124mW:\u001b[39m\u001b[38;5;124m\"\u001b[39m)\n\u001b[0;32m     29\u001b[0m \u001b[38;5;28mprint\u001b[39m(W)\n",
      "Cell \u001b[1;32mIn[15], line 16\u001b[0m, in \u001b[0;36mnmf\u001b[1;34m(V, k, max_iter, tol)\u001b[0m\n\u001b[0;32m     13\u001b[0m W \u001b[38;5;241m*\u001b[39m\u001b[38;5;241m=\u001b[39m np\u001b[38;5;241m.\u001b[39mdot(V, H\u001b[38;5;241m.\u001b[39mT) \u001b[38;5;241m/\u001b[39m np\u001b[38;5;241m.\u001b[39mdot(WH, H\u001b[38;5;241m.\u001b[39mT)\n\u001b[0;32m     14\u001b[0m H \u001b[38;5;241m*\u001b[39m\u001b[38;5;241m=\u001b[39m np\u001b[38;5;241m.\u001b[39mdot(W\u001b[38;5;241m.\u001b[39mT, V) \u001b[38;5;241m/\u001b[39m np\u001b[38;5;241m.\u001b[39mdot(W\u001b[38;5;241m.\u001b[39mT, WH)\n\u001b[1;32m---> 16\u001b[0m error \u001b[38;5;241m=\u001b[39m np\u001b[38;5;241m.\u001b[39mlinalg\u001b[38;5;241m.\u001b[39mnorm(V \u001b[38;5;241m-\u001b[39m dot(W,H))\n\u001b[0;32m     17\u001b[0m \u001b[38;5;28;01mif\u001b[39;00m error \u001b[38;5;241m<\u001b[39m tol:\n\u001b[0;32m     18\u001b[0m     \u001b[38;5;28;01mbreak\u001b[39;00m\n",
      "\u001b[1;31mNameError\u001b[0m: name 'dot' is not defined"
     ]
    }
   ],
   "source": [
    "import numpy as np\n",
    "\n",
    "\n",
    "def nmf(V, k, max_iter=1000, tol=1e-5):\n",
    "        m, n = V.shape\n",
    "        \n",
    "        W = np.random.rand(m,k)\n",
    "        H = np.random.rand(k,n)\n",
    "        \n",
    "        \n",
    "        for iter in range(max_iter):\n",
    "            WH = np.dot(W,H)\n",
    "            W *= np.dot(V, H.T) / np.dot(WH, H.T)\n",
    "            H *= np.dot(W.T, V) / np.dot(W.T, WH)\n",
    "            \n",
    "            error = np.linalg.norm(V - dot(W,H))\n",
    "            if error < tol:\n",
    "                break\n",
    "                \n",
    "        return W, H\n",
    "\n",
    "V = np.array([[5, 4, 0, 2],\n",
    "              [4, 3, 0, 1],\n",
    "              [3, 2, 4, 5],\n",
    "              [2, 1, 5, 4]])\n",
    "\n",
    "W, H = nmf(V, 2)\n",
    "print(\"W:\")\n",
    "print(W)\n",
    "print(\"\\nH:\")\n",
    "print(H)\n",
    "print(\"\\nReconstructed V (WxH):\")\n",
    "# print(np.dot(W, H))\n",
    "    "
   ]
  },
  {
   "cell_type": "markdown",
   "metadata": {},
   "source": [
    "\n",
    "Doğrusal en küçük kareler problemi çözmek için \\( x \\) vektörünü şu formül ile hesaplarız:\n",
    "\n",
    "\\[\n",
    "x = (A^T A)^{-1} A^T b\n",
    "\\] === np.lingalg.lstsq\n",
    "\n",
    "Bu formül, \\( Ax = b \\) denklem sisteminin \"en iyi\" çözümünü verir, yani \\( b - Ax \\) fark vektörünün 2-normunu minimize eder:\n",
    "\n",
    "\\[\n",
    "\\| b - Ax \\|_2 = \\min\n",
    "\\]\n"
   ]
  },
  {
   "cell_type": "code",
   "execution_count": 3,
   "metadata": {},
   "outputs": [
    {
     "data": {
      "text/plain": [
       "(array([[0.77613009, 0.        , 0.27925326],\n",
       "        [0.86458446, 0.1286295 , 0.4922414 ],\n",
       "        [0.85642126, 0.12561144, 0.02846901],\n",
       "        [0.42126053, 0.        , 2.05769762],\n",
       "        [1.69352101, 0.06600393, 0.        ],\n",
       "        [1.13279505, 0.24337856, 0.        ],\n",
       "        [1.37783299, 0.        , 0.36453854],\n",
       "        [0.        , 0.1270306 , 0.5124278 ],\n",
       "        [0.14989713, 0.15820555, 0.94693284]]),\n",
       " array([[0.12126163, 0.58946884, 0.        , 0.21758702, 0.52802461,\n",
       "         0.15867871, 0.29047846],\n",
       "        [0.28616528, 0.05607219, 3.17802122, 0.2706672 , 0.        ,\n",
       "         2.56046692, 2.71149693],\n",
       "        [0.45148645, 0.03553885, 0.30679405, 0.42568156, 0.28380505,\n",
       "         0.        , 0.        ]]))"
      ]
     },
     "execution_count": 3,
     "metadata": {},
     "output_type": "execute_result"
    }
   ],
   "source": [
    "from numpy.linalg import norm\n",
    "\n",
    "def nmf_als(A, k, max_iter=100, tol=1e-4):\n",
    "    m, n = A.shape\n",
    "    \n",
    "    np.random.seed(42)\n",
    "    W = np.random.rand(m, k)\n",
    "    H = np.random.rand(k, n)\n",
    "    \n",
    "    for i in range(max_iter):\n",
    "        H = np.linalg.lstsq(W.T @ W, W.T @ A, rcond=None)[0]\n",
    "        H[H < 0] = 0  # Ensure non-negativity\n",
    "        W = np.linalg.lstsq(H @ H.T, H @ A.T, rcond=None)[0].T\n",
    "        W[W < 0] = 0  \n",
    "        \n",
    "        A_approx = W @ H\n",
    "        error = norm(A - A_approx, 'fro')\n",
    "        \n",
    "        if error < tol:\n",
    "            break\n",
    "    \n",
    "    return W, H\n",
    "\n",
    "# Apply NMF using ALS\n",
    "k = 3\n",
    "W, H = nmf_als(A, k)\n",
    "\n",
    "W, H\n"
   ]
  }
 ],
 "metadata": {
  "kernelspec": {
   "display_name": "Python 3 (ipykernel)",
   "language": "python",
   "name": "python3"
  },
  "language_info": {
   "codemirror_mode": {
    "name": "ipython",
    "version": 3
   },
   "file_extension": ".py",
   "mimetype": "text/x-python",
   "name": "python",
   "nbconvert_exporter": "python",
   "pygments_lexer": "ipython3",
   "version": "3.11.5"
  }
 },
 "nbformat": 4,
 "nbformat_minor": 2
}
