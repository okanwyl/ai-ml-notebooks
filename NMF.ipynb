{
 "cells": [
  {
   "cell_type": "markdown",
   "metadata": {},
   "source": [
    "# NMF\n",
    "Bir LEGO şatosunu düşünün; farklı renklerde LEGO tuğlaları kullanarak yapılmış. Ancak bu şatoyu sadece birkaç belirli LEGO parçası kullanarak tanımlamanız gerekiyor.\n",
    "\n",
    "Büyük LEGO Şatosu (V):\n",
    "Bu, sahip olduğunuz ana veri kümesini temsil eder, örneğin bir sitedeki tüm film derecelendirmeleri. Her bir tuğla, bir kullanıcının belirli bir filme verdiği spesifik derecelendirmeyi temsil eder.\n",
    "\n",
    "Belli Başlı LEGO Parçaları (W ve H):\n",
    "Şatoyu iki daha küçük parça kümesine ayırıyorsunuz.\n",
    "Bir küme (W), kullanıcıları ve genel kategorilere (aksiyon severler, romantik film severler vb.) nasıl uyduklarını temsil eder.\n",
    "Diğer küme (H), her filmin bu genel kategorilere ne kadar uyduğunu temsil eder.\n",
    "\n",
    "Bunu bir araya getirmek:\n",
    "Bu iki parça kümesini kullanarak şatoyu yeniden inşa etmeye çalıştığınızda (W ve H'yı birleştirerek), orijinaliyle tam olarak aynı olmayacaktır. Ancak NMF'nin amacı, onu orijinaline olabildiğince yakın yapmaktır.\n",
    "Yeniden inşa edilen şato orijinaline ne kadar yakınsa, kategorilerimiz o kadar iyidir ve kullanıcıları ve filmleri sadece bu kategorileri kullanarak daha doğru bir şekilde tanımlayabiliriz."
   ]
  },
  {
   "cell_type": "markdown",
   "metadata": {},
   "source": [
    "Eğer k çok küçükse, önemli detayları kaçırabilirsiniz (LEGO yapınızı sadece bir renkle yeniden inşa etmeye çalışmak gibi).\n",
    "Eğer k çok büyükse, veriyi yeterince basitleştiremezsiniz (belki de yeterli olabilecek 10 renk yerine tüm 100 renği kullanmak gibi).\n",
    "Yakınlık olarak resolution yükseltme ve düşürme gibi düşünülebilir."
   ]
  },
  {
   "cell_type": "code",
   "execution_count": 84,
   "metadata": {},
   "outputs": [
    {
     "name": "stdout",
     "output_type": "stream",
     "text": [
      "W:\n",
      "[[7.31233620e-001 1.15836212e-002]\n",
      " [5.57781477e-001 4.94065646e-324]\n",
      " [3.68829049e-001 4.46631045e-001]\n",
      " [1.79304560e-001 4.80988447e-001]]\n",
      "\n",
      "H:\n",
      "[[9.62904921e-001 7.56463522e-001 1.97626258e-323 3.35218601e-001]\n",
      " [1.82799906e-001 3.61092489e-003 1.35431745e+000 1.14889681e+000]]\n",
      "\n",
      "Reconstructed V (WxH):\n",
      "[[7.06225936e-001 5.53193387e-001 1.56879004e-002 2.58431497e-001]\n",
      " [5.37090529e-001 4.21941340e-001 1.48219694e-323 1.86978727e-001]\n",
      " [4.36791420e-001 2.80618472e-001 6.04880219e-001 6.36771341e-001]\n",
      " [2.60577886e-001 1.37374172e-001 6.51411048e-001 6.12712315e-001]]\n",
      "\n",
      "Original matrix (V):\n",
      "[[5 4 0 2]\n",
      " [4 3 0 1]\n",
      " [3 2 4 5]\n",
      " [2 1 5 4]]\n"
     ]
    }
   ],
   "source": [
    "# Gradient Descent'li olan versiyon\n",
    "import numpy as np\n",
    "\n",
    "# tol= Gradient Descent toleransi\n",
    "# max_iter bir damping factor, runtime optimizasyonu\n",
    "# Denemelerimde gradient error tolerantin en iyi 0,0000001 oldugunu fark ettim, 10000 iter icin\n",
    "def nmf(V, k, max_iter=100000, tol=1e-7):\n",
    "    m, n = V.shape\n",
    "\n",
    "    # Random matrisler tanımla, boyutları k=resolutıon boyutlarını alsın)\n",
    "    W = np.random.rand(m, k)\n",
    "    H = np.random.rand(k, n)\n",
    "\n",
    "    for iter in range(max_iter):\n",
    "\n",
    "        # update rules\n",
    "        # https://en.wikipedia.org/wiki/Non-negative_matrix_factorization#:~:text=There%20are%20several,to%20be%20useful.\n",
    "        WH = np.dot(W, H)\n",
    "        W *= np.dot(V, H.T) / np.dot(WH, H.T)\n",
    "        H *= np.dot(W.T, V) / np.dot(W.T, WH)\n",
    "\n",
    "        # Frobenius norm, gradient descent\n",
    "        error = np.linalg.norm(V - np.dot(W, H))\n",
    "        if error < tol:\n",
    "            break\n",
    "\n",
    "    return W, H\n",
    "\n",
    "\n",
    "# Test\n",
    "V = np.array([[5, 4, 0, 2],\n",
    "              [4, 3, 0, 1],\n",
    "              [3, 2, 4, 5],\n",
    "              [2, 1, 5, 4]])\n",
    "\n",
    "W, H = nmf(V, 2)\n",
    "print(\"W:\")\n",
    "print(W)\n",
    "print(\"\\nH:\")\n",
    "print(H)\n",
    "print(\"\\nReconstructed V (WxH):\")\n",
    "print(np.dot(W, H))\n",
    "print(\"\\nOriginal matrix (V):\")\n",
    "print(V)"
   ]
  }
 ],
 "metadata": {
  "kernelspec": {
   "display_name": "Python 3 (ipykernel)",
   "language": "python",
   "name": "python3"
  },
  "language_info": {
   "codemirror_mode": {
    "name": "ipython",
    "version": 3
   },
   "file_extension": ".py",
   "mimetype": "text/x-python",
   "name": "python",
   "nbconvert_exporter": "python",
   "pygments_lexer": "ipython3",
   "version": "3.11.5"
  }
 },
 "nbformat": 4,
 "nbformat_minor": 2
}
